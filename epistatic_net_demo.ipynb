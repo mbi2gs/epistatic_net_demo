{
 "cells": [
  {
   "cell_type": "code",
   "execution_count": 1,
   "metadata": {},
   "outputs": [],
   "source": [
    "import os\n",
    "from tqdm import tqdm\n",
    "import pandas as pd\n",
    "import numpy as np\n",
    "from sklearn.model_selection import train_test_split\n",
    "from scipy.stats import pearsonr\n",
    "from itertools import product\n",
    "from scipy.linalg import hadamard\n",
    "\n",
    "os.environ['TF_CPP_MIN_LOG_LEVEL'] = '2' \n",
    "import tensorflow as tf\n",
    "from tensorflow.keras.models import Sequential\n",
    "from tensorflow.keras.layers import Dense, Dropout, Flatten, Input\n",
    "\n",
    "from matplotlib import pyplot as plt\n",
    "import seaborn as sns"
   ]
  },
  {
   "cell_type": "markdown",
   "metadata": {},
   "source": [
    "Helper functions"
   ]
  },
  {
   "cell_type": "code",
   "execution_count": 2,
   "metadata": {},
   "outputs": [],
   "source": [
    "def bool_comb_mat(n_bits=3):\n",
    "    \"\"\"Generate all possible combinations of n_bits bits\n",
    "    as a numpy matrix.\n",
    "    :param n_bits: (int) Number of bits\n",
    "    :return: (np.ndarray) All combinations of n_bits\n",
    "    \"\"\"\n",
    "    x = list(product([0, 1], repeat=n_bits))\n",
    "    return np.array(x)\n",
    "\n",
    "\n",
    "def walsh_hadamard_sparsity(bool_model, n_bits):\n",
    "    \"\"\"Sum the absolute value of all coefficients in the\n",
    "    Walsh-Hadamard spectrum of the bool_model.\n",
    "    In other words, determine how sparse (or not) the\n",
    "    implicit interaction terms are, as represented by the model.\n",
    "    :param bool_model: (boolean model) Model with predict() method\n",
    "                        that accepts boolean inputs and outputs\n",
    "                        tensorflow probability distribution.\n",
    "    :param n_bits: (int) Number of boolean bits in input\n",
    "    :return: (int) Number of non-zero coefficients in WH spectrum\n",
    "    \"\"\"\n",
    "    # Generate predictions for all possible combinations of\n",
    "    # input features\n",
    "    all_comb = tf.convert_to_tensor(bool_comb_mat(n_bits))\n",
    "    y_all = tf.squeeze(bool_model(all_comb))\n",
    "\n",
    "    # Walsh-Hadamard transform (without normalizing constant)\n",
    "    had_mat = tf.convert_to_tensor(\n",
    "        hadamard(2**n_dims),\n",
    "        dtype=tf.float32\n",
    "    )\n",
    "    wh_t = tf.linalg.matvec(had_mat, y_all)\n",
    "\n",
    "    # Sum absolute value of coefficients (L1)\n",
    "    non_zero_coeff = tf.reduce_sum(\n",
    "        tf.cast(\n",
    "            tf.abs(wh_t),\n",
    "            dtype=tf.float64\n",
    "        )\n",
    "    )\n",
    "    return non_zero_coeff\n",
    "\n",
    "\n",
    "def mse_loss(y_true, y_pred):\n",
    "    \"\"\"Mean Squared Error loss\"\"\"\n",
    "    return tf.reduce_mean(tf.math.squared_difference(y_pred, y_true))\n",
    "\n",
    "\n",
    "def mse_whs_loss(bool_model, x_batch, y_batch, wh_weight=0.01):\n",
    "    \"\"\"Calculate the loss by combining Mean Squared Error (MSE)\n",
    "    and Walsh-Hadamard sparsity.\n",
    "    :param bool_model: (tf.keras.Model) Model with predict() method\n",
    "                        that accepts boolean inputs and outputs\n",
    "                        tensorflow probability distribution.\n",
    "    :param x_batch: Batch of boolean features for model input\n",
    "    :param y_batch: Corresponding y values for input features\n",
    "    :param wh_weight: (float) Weight applied to WH Sparsity\n",
    "                      (relative to MSE weight of 1)\n",
    "    :return: (float) Loss value\n",
    "    \"\"\"\n",
    "    # Assume the last dimension is the number of bits\n",
    "    n_bits = x_batch.shape[-1]\n",
    "\n",
    "    # Calculate MSE\n",
    "    y_pred = tf.squeeze(bool_model(x_batch))\n",
    "    mse = mse_loss(y_batch, y_pred)\n",
    "\n",
    "    # Calculate WHS\n",
    "    whs = walsh_hadamard_sparsity(bool_model, n_bits)\n",
    "    loss_sum = tf.add(\n",
    "        tf.cast(mse, dtype=tf.float32),\n",
    "        tf.cast(wh_weight * whs, dtype=tf.float32)\n",
    "    )\n",
    "    return loss_sum\n",
    "\n",
    "\n",
    "def get_vanilla_dnn(input_shape,\n",
    "                    num_nodes = [64, 48, 32, 16],\n",
    "                    l2_reg=False):\n",
    "    \"\"\"Return a deep neural net with layers and nodes\n",
    "    defined by num_nodes. Initialize weights with GlorotUniform (AKA Xavier).\n",
    "    The final layer is a linear-activated single value.\n",
    "    :param input_shape: (tuple) Shape of input examples (w/o batch size)\n",
    "    :param num_nodes: (list) List of integers defining the number of nodes\n",
    "                      in each layer\n",
    "    :param l2_reg: (bool) If True, use L2 regularization to constrain Dense layers\n",
    "    :return: Tensorflow model as returned by Sequential()\n",
    "    \"\"\"\n",
    "    xavier_init = tf.keras.initializers.GlorotUniform()\n",
    "    layers = [\n",
    "        Input(shape=input_shape),\n",
    "        Flatten()\n",
    "    ]\n",
    "    # Add one Dense() layer for each value in \"num_nodes\"\n",
    "    for nodes in num_nodes:\n",
    "        kreg = None\n",
    "        if l2_reg:\n",
    "            kreg='l2'\n",
    "        tmp_layer = Dense(\n",
    "            units=nodes,\n",
    "            activation='relu',\n",
    "            kernel_initializer=xavier_init,\n",
    "            kernel_regularizer=kreg\n",
    "        )\n",
    "        layers.append(tmp_layer)\n",
    "\n",
    "    # The last layer outputs a single fitness value\n",
    "    layers.extend([\n",
    "        Dense(units=1,\n",
    "              activation='linear',\n",
    "              kernel_initializer=xavier_init)\n",
    "    ])\n",
    "\n",
    "    model = Sequential(layers)\n",
    "    return model\n",
    "\n",
    "\n",
    "def plot_and_correlate(model, x_data, y_data):\n",
    "    \"\"\"Report correlations and visualize as scatter plot.\n",
    "    :param model: (tf.keras.Model) Trained model\n",
    "    :param x_data: (np.ndarray or tf.Tensor) X values\n",
    "    :param y_data: (np.ndarray or tf.Tensor) Corresponding y values\n",
    "    :return: (matplotlib axis, float)\n",
    "    \"\"\"\n",
    "    y_pred = model(x_data)\n",
    "    pears = pearsonr(y_pred, y_data)\n",
    "    print(f'Pearson r {pears[0]:.3f}')\n",
    "    ax = sns.scatterplot(\n",
    "        x=y_pred,\n",
    "        y=y_data\n",
    "    );\n",
    "    ax.set_xlabel('model prediction')\n",
    "    ax.set_ylabel('Ground truth')\n",
    "    return ax, pears[0]"
   ]
  },
  {
   "cell_type": "markdown",
   "metadata": {},
   "source": [
    "Create toy data sets\n",
    "\n",
    "For comparison, one very sparse and one more dense."
   ]
  },
  {
   "cell_type": "code",
   "execution_count": 3,
   "metadata": {},
   "outputs": [
    {
     "name": "stdout",
     "output_type": "stream",
     "text": [
      "(64, 6) (64,)\n"
     ]
    }
   ],
   "source": [
    "# Both functions expect dimension 6 or greater\n",
    "sparse_fun = lambda x: 2*x[0]*x[3] - 2*x[2] + 2*x[0]*x[1]*x[4] \\\n",
    "                     + 2*x[0]*x[2]*x[3]*x[5]\n",
    "dense_fun = lambda x: 2*x[0]*x[3] - 2*x[2] + 2*x[0]*x[1]*x[4] \\\n",
    "                    + 2*x[0]*x[2]*x[3]*x[5] \\\n",
    "                   -  2*x[1]*x[3] - 2*x[5] + 2*x[3]*x[1]*x[5] \\\n",
    "                   +  2*x[0]*x[4] - 2*x[0] + 2*x[3]*x[4]*x[5] \\\n",
    "                   -  2*x[2]*x[5] + 2*x[1] - 2*x[2]*x[3]*x[4]\n",
    "n_dims = 6\n",
    "# Generate all possible Boolean combinations of dimension n_dims\n",
    "X = bool_comb_mat(n_dims)\n",
    "# Apply sparse and dense functions to produce fitness values\n",
    "y_sparse = np.apply_along_axis(sparse_fun, 1, X)\n",
    "y_dense = np.apply_along_axis(dense_fun, 1, X)\n",
    "# Combine into a dictionary\n",
    "y_dict = {'sparse':y_sparse, 'dense':y_dense}\n",
    "print(X.shape, y_sparse.shape)\n",
    "\n",
    "\n",
    "def get_data_split(test_fraction=0.5, y_function='sparse', random_state=30):\n",
    "    \"\"\"Return data that has been split and shuffled.\n",
    "    :param test_fraction: (float) Fraction of data set used for testing (1 - training)\n",
    "    :param y_function: (str) sparse or dense\n",
    "    :param random_state: (int) Randomize shuffle and split\n",
    "    :return: Training and test dataset objects\n",
    "    \"\"\"\n",
    "    X_train, X_test, y_train, y_test = train_test_split(\n",
    "        X, y_dict[y_function],\n",
    "        test_size=0.75,\n",
    "        shuffle=True,\n",
    "        random_state=random_state\n",
    "    )\n",
    "    train_dataset = tf.data.Dataset.from_tensor_slices((X_train, y_train))\n",
    "    train_dataset = train_dataset.batch(6)\n",
    "    test_dataset = tf.data.Dataset.from_tensor_slices((X_test, y_test))\n",
    "    test_dataset = test_dataset.batch(6)\n",
    "    return train_dataset, test_dataset"
   ]
  },
  {
   "cell_type": "markdown",
   "metadata": {},
   "source": [
    "Define a custom training loop"
   ]
  },
  {
   "cell_type": "code",
   "execution_count": 4,
   "metadata": {},
   "outputs": [],
   "source": [
    "def run_test_iteration(\n",
    "    model,\n",
    "    train_data, test_data,\n",
    "    optimizer,\n",
    "    epochs,\n",
    "    loss_function='mse', wh_weight=1e-4\n",
    "    ):\n",
    "    \"\"\"Train and evaluate a model. Return pearson correlation coefficience\n",
    "    and Sparsity metric.\n",
    "    \"\"\"\n",
    "    # Train\n",
    "    for epoch in range(epochs):\n",
    "        for step, (x_batch_train, y_batch_train) in enumerate(train_data):\n",
    "            with tf.GradientTape() as tape:\n",
    "                y_batch_pred = model(x_batch_train, training=True)\n",
    "                if loss_function == 'mse':\n",
    "                    loss_value = mse_loss(\n",
    "                        tf.cast(y_batch_train, dtype=tf.float32),\n",
    "                        y_batch_pred\n",
    "                    )\n",
    "                else:\n",
    "                    loss_value = mse_whs_loss(\n",
    "                        model,\n",
    "                        x_batch_train,\n",
    "                        tf.cast(y_batch_train, dtype=tf.float32),\n",
    "                        wh_weight=wh_weight\n",
    "                    )\n",
    "            grads = tape.gradient(loss_value, model.trainable_weights)\n",
    "            optimizer.apply_gradients(zip(grads, model.trainable_weights))\n",
    "    # Evaluate\n",
    "    test_y = np.concatenate([yt for _, yt in test_data], axis=0)\n",
    "    test_x = np.concatenate([xt for xt, _ in test_data], axis=0)\n",
    "    y_pred = tf.squeeze(model(test_x)).numpy()\n",
    "    pears = pearsonr(y_pred, test_y)\n",
    "    wh_sparsity = walsh_hadamard_sparsity(model, n_dims).numpy()\n",
    "    return pears[0], wh_sparsity"
   ]
  },
  {
   "cell_type": "markdown",
   "metadata": {},
   "source": [
    "Run experiment to compare regularization methods on sparse and dense landscapes\n",
    "\n",
    "- `wh_reg` refers to the addition of a WH transform sparsity term to the loss function (Epistatic Net)\n",
    "- `l2` refers to L2 regularization on DNN layers\n",
    "- `no_reg` refers to a DNN without regularization\n",
    "\n",
    "Each iteration, a random model is initialized, and a random 25% subset of data is used for training, with the remaining 75% used for testing. Model performance is quantified using Pearson and WH sparsity."
   ]
  },
  {
   "cell_type": "code",
   "execution_count": 5,
   "metadata": {},
   "outputs": [
    {
     "name": "stdout",
     "output_type": "stream",
     "text": [
      "Landscape sparse\n",
      "model_type wh_reg_3.0E-02\n"
     ]
    },
    {
     "name": "stderr",
     "output_type": "stream",
     "text": [
      "100%|██████████| 10/10 [00:32<00:00,  3.25s/it]\n"
     ]
    },
    {
     "name": "stdout",
     "output_type": "stream",
     "text": [
      "model_type no_reg\n"
     ]
    },
    {
     "name": "stderr",
     "output_type": "stream",
     "text": [
      "100%|██████████| 10/10 [00:21<00:00,  2.11s/it]\n"
     ]
    },
    {
     "name": "stdout",
     "output_type": "stream",
     "text": [
      "model_type l2\n"
     ]
    },
    {
     "name": "stderr",
     "output_type": "stream",
     "text": [
      "100%|██████████| 10/10 [00:20<00:00,  2.07s/it]\n"
     ]
    },
    {
     "name": "stdout",
     "output_type": "stream",
     "text": [
      "Landscape dense\n",
      "model_type wh_reg_3.0E-02\n"
     ]
    },
    {
     "name": "stderr",
     "output_type": "stream",
     "text": [
      "100%|██████████| 10/10 [00:32<00:00,  3.22s/it]\n"
     ]
    },
    {
     "name": "stdout",
     "output_type": "stream",
     "text": [
      "model_type no_reg\n"
     ]
    },
    {
     "name": "stderr",
     "output_type": "stream",
     "text": [
      "100%|██████████| 10/10 [00:21<00:00,  2.12s/it]\n"
     ]
    },
    {
     "name": "stdout",
     "output_type": "stream",
     "text": [
      "model_type l2\n"
     ]
    },
    {
     "name": "stderr",
     "output_type": "stream",
     "text": [
      "100%|██████████| 10/10 [00:20<00:00,  2.09s/it]\n"
     ]
    }
   ],
   "source": [
    "landscapes = ['sparse', 'dense']\n",
    "epochs = 50\n",
    "reps = 10\n",
    "model_types = [\n",
    "    ('wh_reg', 0.03),\n",
    "    ('no_reg', None),\n",
    "    ('l2', None)\n",
    "]\n",
    "train_frac = [0.25]\n",
    "learning_rate = 1e-3\n",
    "\n",
    "results = {\n",
    "    'model_type_str':[],\n",
    "    'model_type':[],\n",
    "    'wh_weight':[],\n",
    "    'landscape_type':[],\n",
    "    'train_frac':[],\n",
    "    'rep':[],\n",
    "    'metric':[],\n",
    "    'value':[]\n",
    "}\n",
    "\n",
    "for landscape in landscapes:\n",
    "    print('Landscape', landscape)\n",
    "    for model_type, wh_weight in model_types:\n",
    "        # Format model name\n",
    "        model_type_str = model_type\n",
    "        if model_type == 'wh_reg':\n",
    "            model_type_str = f'{model_type}_{wh_weight:.1E}'\n",
    "        print('model_type', model_type_str)\n",
    "        for rep in tqdm(range(reps)):\n",
    "            # Get data\n",
    "            train_dataset, test_dataset = get_data_split(\n",
    "                test_fraction=1-train_frac[0],\n",
    "                y_function=landscape,\n",
    "                random_state=rep*5\n",
    "            )\n",
    "            # Set up optimizer\n",
    "            optimizer = tf.keras.optimizers.RMSprop(learning_rate=learning_rate)\n",
    "            # Set up model and loss function\n",
    "            loss_function = 'mse'\n",
    "            if model_type == 'l2':\n",
    "                model = get_vanilla_dnn(X.shape[1:], l2_reg=True)\n",
    "            else:\n",
    "                model = get_vanilla_dnn(X.shape[1:])\n",
    "                if model_type == 'wh_reg':\n",
    "                    loss_function = 'wh_reg'\n",
    "\n",
    "            # Train and evaluate\n",
    "            metric_names = ['pearson', 'wh_sparsity']\n",
    "            values = run_test_iteration(\n",
    "                model,\n",
    "                train_dataset, test_dataset,\n",
    "                optimizer,\n",
    "                epochs,\n",
    "                loss_function=loss_function,\n",
    "                wh_weight=wh_weight\n",
    "            )\n",
    "            # Record results\n",
    "            for i, metric in enumerate(metric_names):\n",
    "                results['model_type_str'].append(model_type_str)\n",
    "                results['model_type'].append(model_type)\n",
    "                results['wh_weight'].append(wh_weight)\n",
    "                results['landscape_type'].append(landscape)\n",
    "                results['train_frac'].append(train_frac[0])\n",
    "                results['rep'].append(rep)\n",
    "                results['metric'].append(metric)\n",
    "                results['value'].append(values[i])\n",
    "\n",
    "results_df = pd.DataFrame(results)"
   ]
  },
  {
   "cell_type": "markdown",
   "metadata": {},
   "source": [
    "Plot results"
   ]
  },
  {
   "cell_type": "code",
   "execution_count": 6,
   "metadata": {},
   "outputs": [
    {
     "data": {
      "image/png": "[encoded data removed]",
      "text/plain": [
       "<Figure size 561.6x432 with 4 Axes>"
      ]
     },
     "metadata": {
      "needs_background": "light"
     },
     "output_type": "display_data"
    }
   ],
   "source": [
    "g = sns.FacetGrid(results_df, col='landscape_type', row='metric', sharey='row', aspect=1.3)\n",
    "plot = g.map(\n",
    "    sns.boxplot,\n",
    "    'model_type_str',\n",
    "    'value',\n",
    "    order=['wh_reg_3.0E-02', 'l2', 'no_reg']\n",
    ")\n",
    "plt.xticks(rotation=45)\n",
    "for axes in plot.axes.flat:\n",
    "    _ = axes.set_xticklabels(axes.get_xticklabels(), rotation=90)"
   ]
  },
  {
   "cell_type": "code",
   "execution_count": 7,
   "metadata": {},
   "outputs": [
    {
     "name": "stdout",
     "output_type": "stream",
     "text": [
      "METRIC: pearson\n",
      "  landscape_type  model_type_str      mean    median\n",
      "3         sparse              l2  0.119627  0.076179\n",
      "4         sparse          no_reg  0.105228  0.142918\n",
      "5         sparse  wh_reg_3.0E-02  0.451511  0.487549\n",
      "1          dense          no_reg  0.295399  0.305797\n",
      "0          dense              l2  0.322404  0.328016\n",
      "2          dense  wh_reg_3.0E-02  0.564101  0.580192\n",
      "METRIC: wh_sparsity\n",
      "  landscape_type  model_type_str        mean      median\n",
      "5         sparse  wh_reg_3.0E-02    5.980916    5.140983\n",
      "4         sparse          no_reg  136.987729  144.604219\n",
      "3         sparse              l2  146.357476  151.610326\n",
      "2          dense  wh_reg_3.0E-02   74.898558   65.399155\n",
      "1          dense          no_reg  268.310568  261.453391\n",
      "0          dense              l2  276.375731  277.239667\n"
     ]
    }
   ],
   "source": [
    "for metric in results_df.metric.unique().tolist():\n",
    "    print('METRIC:', metric)\n",
    "    metric_df = (\n",
    "        results_df\n",
    "        .query(f'metric == \"{metric}\"')\n",
    "        .groupby(['landscape_type', 'model_type_str'])\n",
    "        .value\n",
    "        .agg([np.mean, np.median])\n",
    "        .reset_index()\n",
    "    )\n",
    "    \n",
    "    print(metric_df.sort_values(['landscape_type', 'median'], ascending=[0, 1]))"
   ]
  }
 ],
 "metadata": {
  "kernelspec": {
   "display_name": "Python 3.7.10 ('epistatic_net_demo-trsUb77i')",
   "language": "python",
   "name": "python3"
  },
  "language_info": {
   "codemirror_mode": {
    "name": "ipython",
    "version": 3
   },
   "file_extension": ".py",
   "mimetype": "text/x-python",
   "name": "python",
   "nbconvert_exporter": "python",
   "pygments_lexer": "ipython3",
   "version": "3.7.10"
  },
  "orig_nbformat": 4,
  "vscode": {
   "interpreter": {
    "hash": "3a5c0e56ecea0cd6194c3766d27fe59af466b8c7bb1b58cda9fa94a2d447690e"
   }
  }
 },
 "nbformat": 4,
 "nbformat_minor": 2
}
